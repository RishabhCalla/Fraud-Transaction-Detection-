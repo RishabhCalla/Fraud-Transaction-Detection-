{
 "cells": [
  {
   "cell_type": "code",
   "execution_count": 1,
   "id": "23db4604-4a2c-4c8f-a58d-81dae64fcbbe",
   "metadata": {},
   "outputs": [],
   "source": [
    "import pandas as pd\n",
    "from sklearn.model_selection import train_test_split\n",
    "from sklearn.linear_model import LogisticRegression\n",
    "from sklearn.tree import DecisionTreeClassifier\n",
    "from sklearn.metrics import classification_report, confusion_matrix\n",
    "from sklearn.model_selection import RandomizedSearchCV\n",
    "import seaborn as sns\n",
    "import matplotlib.pyplot as plt\n"
   ]
  },
  {
   "cell_type": "code",
   "execution_count": 2,
   "id": "a7849f64-1751-469d-8d67-3ffbfb44caa6",
   "metadata": {},
   "outputs": [
    {
     "name": "stdout",
     "output_type": "stream",
     "text": [
      "Before cleaning: (6362620, 11)\n",
      "   step      type    amount     nameOrig  oldbalanceOrg  newbalanceOrig  \\\n",
      "0     1   PAYMENT   9839.64  C1231006815       170136.0       160296.36   \n",
      "1     1   PAYMENT   1864.28  C1666544295        21249.0        19384.72   \n",
      "2     1  TRANSFER    181.00  C1305486145          181.0            0.00   \n",
      "3     1  CASH_OUT    181.00   C840083671          181.0            0.00   \n",
      "4     1   PAYMENT  11668.14  C2048537720        41554.0        29885.86   \n",
      "\n",
      "      nameDest  oldbalanceDest  newbalanceDest  isFraud  isFlaggedFraud  \n",
      "0  M1979787155             0.0             0.0        0               0  \n",
      "1  M2044282225             0.0             0.0        0               0  \n",
      "2   C553264065             0.0             0.0        1               0  \n",
      "3    C38997010         21182.0             0.0        1               0  \n",
      "4  M1230701703             0.0             0.0        0               0  \n"
     ]
    }
   ],
   "source": [
    "# 1. Load Dataset\n",
    "df = pd.read_csv(\"Fraud.csv\")\n",
    "print(\"Before cleaning:\", df.shape)\n",
    "print(df.head())"
   ]
  },
  {
   "cell_type": "code",
   "execution_count": 3,
   "id": "4e91e97d-8eae-4c57-9b4a-c143488ac1b6",
   "metadata": {},
   "outputs": [],
   "source": [
    "# 2. Drop useless ID/name columns\n",
    "df = df.drop(['nameOrig', 'nameDest'], axis=1)"
   ]
  },
  {
   "cell_type": "code",
   "execution_count": 4,
   "id": "0a23e5fe-84fa-4229-818e-eed004ac646a",
   "metadata": {},
   "outputs": [],
   "source": [
    "# 3. Encode 'type' column (convert to numeric dummies)\n",
    "df = pd.get_dummies(df, columns=['type'], drop_first=True)"
   ]
  },
  {
   "cell_type": "code",
   "execution_count": 5,
   "id": "c57f411c-9572-4a2e-a846-b645249e336a",
   "metadata": {},
   "outputs": [
    {
     "name": "stdout",
     "output_type": "stream",
     "text": [
      "After encoding: (6362620, 12)\n",
      "step                int64\n",
      "amount            float64\n",
      "oldbalanceOrg     float64\n",
      "newbalanceOrig    float64\n",
      "oldbalanceDest    float64\n",
      "newbalanceDest    float64\n",
      "isFraud             int64\n",
      "isFlaggedFraud      int64\n",
      "type_CASH_OUT        bool\n",
      "type_DEBIT           bool\n",
      "type_PAYMENT         bool\n",
      "type_TRANSFER        bool\n",
      "dtype: object\n"
     ]
    }
   ],
   "source": [
    "# 4. Check again (only numeric columns now)\n",
    "print(\"After encoding:\", df.shape)\n",
    "print(df.dtypes)\n"
   ]
  },
  {
   "cell_type": "code",
   "execution_count": 6,
   "id": "44770496-d988-423b-907a-0af52cd550a5",
   "metadata": {},
   "outputs": [],
   "source": [
    "# 5. Define Features & Target\n",
    "X = df.drop(\"isFraud\", axis=1)\n",
    "y = df[\"isFraud\"]"
   ]
  },
  {
   "cell_type": "code",
   "execution_count": 7,
   "id": "5d5daa7a-baea-4744-8d16-5514f90a4b57",
   "metadata": {},
   "outputs": [],
   "source": [
    "# 6. Train-test split \n",
    "X_train, X_test, y_train, y_test = train_test_split(X, y, test_size=0.2, random_state=42)"
   ]
  },
  {
   "cell_type": "code",
   "execution_count": 8,
   "id": "66e4c2c3-9d42-4eaa-92ff-90bcff666dcc",
   "metadata": {},
   "outputs": [],
   "source": [
    "# 7. Logistic Regression\n",
    "log_model = LogisticRegression(max_iter=1000)\n",
    "log_model.fit(X_train, y_train)\n",
    "y_pred_log = log_model.predict(X_test)"
   ]
  },
  {
   "cell_type": "markdown",
   "id": "fea9dab7-e064-49cf-a1a3-b9e4b5c00518",
   "metadata": {},
   "source": [
    "### Logistic regression Classification report ###"
   ]
  },
  {
   "cell_type": "code",
   "execution_count": 9,
   "id": "eb46de0b-c276-428f-bb7c-e9efb9c0f5c9",
   "metadata": {},
   "outputs": [
    {
     "name": "stdout",
     "output_type": "stream",
     "text": [
      " Logistic Regression Results:\n",
      "[[1270828      76]\n",
      " [    834     786]]\n",
      "              precision    recall  f1-score   support\n",
      "\n",
      "           0       1.00      1.00      1.00   1270904\n",
      "           1       0.91      0.49      0.63      1620\n",
      "\n",
      "    accuracy                           1.00   1272524\n",
      "   macro avg       0.96      0.74      0.82   1272524\n",
      "weighted avg       1.00      1.00      1.00   1272524\n",
      "\n"
     ]
    }
   ],
   "source": [
    "print(\" Logistic Regression Results:\")\n",
    "print(confusion_matrix(y_test, y_pred_log))\n",
    "print(classification_report(y_test, y_pred_log))"
   ]
  },
  {
   "cell_type": "code",
   "execution_count": 10,
   "id": "52e59284-4a30-41a7-aa65-2c08abf27aed",
   "metadata": {},
   "outputs": [
    {
     "data": {
      "image/png": "[encoded data removed]",
      "text/plain": [
       "<Figure size 640x480 with 2 Axes>"
      ]
     },
     "metadata": {},
     "output_type": "display_data"
    }
   ],
   "source": [
    "sns.heatmap(confusion_matrix(y_test, y_pred_log), annot=True, fmt='d', cmap='cividis')\n",
    "plt.title(\"Logistic Regression - Confusion Matrix\")\n",
    "plt.show()"
   ]
  },
  {
   "cell_type": "code",
   "execution_count": 11,
   "id": "5753f702-4010-453e-ae89-d4da8ed68a69",
   "metadata": {},
   "outputs": [],
   "source": [
    "# 8. Decision Tree\n",
    "tree_model = DecisionTreeClassifier(max_depth=5)\n",
    "tree_model.fit(X_train, y_train)\n",
    "y_pred_tree = tree_model.predict(X_test)"
   ]
  },
  {
   "cell_type": "markdown",
   "id": "eb82e849-1775-4b85-9657-5ceb1074c785",
   "metadata": {},
   "source": [
    "### Desicion tree classification report ### "
   ]
  },
  {
   "cell_type": "code",
   "execution_count": 12,
   "id": "9c3d85fa-8eaa-4d22-be38-734da217406d",
   "metadata": {},
   "outputs": [
    {
     "name": "stdout",
     "output_type": "stream",
     "text": [
      "Decision Tree Results:\n",
      "[[1270654     250]\n",
      " [    897     723]]\n",
      "              precision    recall  f1-score   support\n",
      "\n",
      "           0       1.00      1.00      1.00   1270904\n",
      "           1       0.74      0.45      0.56      1620\n",
      "\n",
      "    accuracy                           1.00   1272524\n",
      "   macro avg       0.87      0.72      0.78   1272524\n",
      "weighted avg       1.00      1.00      1.00   1272524\n",
      "\n"
     ]
    }
   ],
   "source": [
    "print(\"Decision Tree Results:\")\n",
    "print(confusion_matrix(y_test, y_pred_tree))\n",
    "print(classification_report(y_test, y_pred_tree))"
   ]
  },
  {
   "cell_type": "code",
   "execution_count": 13,
   "id": "f4c2fd26-edf8-4679-bc2f-979ebe5b645e",
   "metadata": {},
   "outputs": [
    {
     "data": {
      "image/png": "[encoded data removed]",
      "text/plain": [
       "<Figure size 640x480 with 2 Axes>"
      ]
     },
     "metadata": {},
     "output_type": "display_data"
    }
   ],
   "source": [
    "sns.heatmap(confusion_matrix(y_test, y_pred_tree), annot=True, fmt='d', cmap='magma')\n",
    "plt.title(\"Decision Tree - Confusion Matrix\")\n",
    "plt.show()"
   ]
  },
  {
   "cell_type": "markdown",
   "id": "4dd178ba-c208-403f-9cf8-18fafb90d7e8",
   "metadata": {},
   "source": [
    "### Decision tree hyperparameter tuning ###"
   ]
  },
  {
   "cell_type": "code",
   "execution_count": 14,
   "id": "d0f863f6-5962-4abb-a23a-96a5c83d4019",
   "metadata": {},
   "outputs": [],
   "source": [
    "from scipy.stats import randint"
   ]
  },
  {
   "cell_type": "code",
   "execution_count": 15,
   "id": "e34be173-cd0e-49bf-8718-1b1c0fa602f0",
   "metadata": {},
   "outputs": [],
   "source": [
    "param_dist_tree = {\n",
    "    'max_depth': randint(3, 15),\n",
    "    'min_samples_split': randint(2, 20),\n",
    "    'criterion': ['gini', 'entropy']\n",
    "}\n"
   ]
  },
  {
   "cell_type": "code",
   "execution_count": 16,
   "id": "e0859a88-56a5-4a6e-bdc4-008878ed8611",
   "metadata": {},
   "outputs": [],
   "source": [
    "rand_tree = RandomizedSearchCV(\n",
    "    estimator=DecisionTreeClassifier(),\n",
    "    param_distributions=param_dist_tree,\n",
    "    n_iter=20,          # Number of random combinations to try\n",
    "    cv=3,               # 3-fold cross-validation\n",
    "    scoring='accuracy',\n",
    "    n_jobs=2,           # Limit cores to avoid system resource error\n",
    "    random_state=42\n",
    ")"
   ]
  },
  {
   "cell_type": "code",
   "execution_count": 17,
   "id": "d5b8d7ab-2af1-44ef-9a56-f96af3c9cea9",
   "metadata": {},
   "outputs": [
    {
     "name": "stdout",
     "output_type": "stream",
     "text": [
      "Best Decision Tree Parameters: {'criterion': 'entropy', 'max_depth': 14, 'min_samples_split': 2}\n"
     ]
    }
   ],
   "source": [
    "rand_tree.fit(X_train, y_train)\n",
    "print(\"Best Decision Tree Parameters:\", rand_tree.best_params_)"
   ]
  },
  {
   "cell_type": "code",
   "execution_count": 18,
   "id": "f85ca274-b7a9-4882-98d2-7c73a8d6a89d",
   "metadata": {},
   "outputs": [],
   "source": [
    "best_tree = rand_tree.best_estimator_\n",
    "y_pred_tree = best_tree.predict(X_test)"
   ]
  },
  {
   "cell_type": "code",
   "execution_count": 19,
   "id": "73662537-adfb-4788-b2b7-0328fa4c3260",
   "metadata": {},
   "outputs": [
    {
     "name": "stdout",
     "output_type": "stream",
     "text": [
      "[[1270822      82]\n",
      " [    286    1334]]\n",
      "              precision    recall  f1-score   support\n",
      "\n",
      "           0       1.00      1.00      1.00   1270904\n",
      "           1       0.94      0.82      0.88      1620\n",
      "\n",
      "    accuracy                           1.00   1272524\n",
      "   macro avg       0.97      0.91      0.94   1272524\n",
      "weighted avg       1.00      1.00      1.00   1272524\n",
      "\n"
     ]
    }
   ],
   "source": [
    "print(confusion_matrix(y_test, y_pred_tree))\n",
    "print(classification_report(y_test, y_pred_tree))"
   ]
  }
 ],
 "metadata": {
  "kernelspec": {
   "display_name": "Python 3 (ipykernel)",
   "language": "python",
   "name": "python3"
  },
  "language_info": {
   "codemirror_mode": {
    "name": "ipython",
    "version": 3
   },
   "file_extension": ".py",
   "mimetype": "text/x-python",
   "name": "python",
   "nbconvert_exporter": "python",
   "pygments_lexer": "ipython3",
   "version": "3.13.5"
  }
 },
 "nbformat": 4,
 "nbformat_minor": 5
}
